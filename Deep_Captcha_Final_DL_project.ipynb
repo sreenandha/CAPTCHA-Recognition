{
  "nbformat": 4,
  "nbformat_minor": 0,
  "metadata": {
    "colab": {
      "provenance": [],
      "machine_shape": "hm",
      "gpuType": "A100"
    },
    "kernelspec": {
      "name": "python3",
      "display_name": "Python 3"
    },
    "language_info": {
      "name": "python"
    },
    "accelerator": "GPU"
  },
  "cells": [
    {
      "cell_type": "markdown",
      "source": [
        "# Deep-CAPTCHA: CAPTCHA Recognition Using Deep Learning\n",
        "\n",
        "This project involves building a deep learning model to automate CAPTCHA solving using a Convolutional Neural Network (CNN). The model is trained to decode alphanumeric CAPTCHAs with 5 characters. The project demonstrates vulnerabilities in CAPTCHA systems and explores methods to address them.\n",
        "\n",
        "### **Dataset Description**\n",
        "- **Training Set**: 800 randomly generated CAPTCHA images.\n",
        "- **Test Set**: 200 CAPTCHA images.\n",
        "- **CAPTCHA Characteristics**:\n",
        "  - **Length**: 5 characters.\n",
        "  - **Types**: Alphanumeric.\n",
        "  - **Complexity**: Includes variable fonts, rotations, and noise levels.\n"
      ],
      "metadata": {
        "id": "lcKmVYeVYEqi"
      }
    },
    {
      "cell_type": "code",
      "source": [
        "!wget https://raw.githubusercontent.com/EdwardRaff/Inside-Deep-Learning/main/idlmam.py"
      ],
      "metadata": {
        "colab": {
          "base_uri": "https://localhost:8080/"
        },
        "id": "u_4yoyJh-qlh",
        "outputId": "7b10b0a6-9d7f-47a6-86c6-6a34c31df721"
      },
      "execution_count": 1,
      "outputs": [
        {
          "output_type": "stream",
          "name": "stdout",
          "text": [
            "--2024-12-06 23:43:21--  https://raw.githubusercontent.com/EdwardRaff/Inside-Deep-Learning/main/idlmam.py\n",
            "Resolving raw.githubusercontent.com (raw.githubusercontent.com)... 185.199.108.133, 185.199.109.133, 185.199.110.133, ...\n",
            "Connecting to raw.githubusercontent.com (raw.githubusercontent.com)|185.199.108.133|:443... connected.\n",
            "HTTP request sent, awaiting response... 200 OK\n",
            "Length: 22064 (22K) [text/plain]\n",
            "Saving to: ‘idlmam.py.3’\n",
            "\n",
            "\ridlmam.py.3           0%[                    ]       0  --.-KB/s               \ridlmam.py.3         100%[===================>]  21.55K  --.-KB/s    in 0.002s  \n",
            "\n",
            "2024-12-06 23:43:21 (13.8 MB/s) - ‘idlmam.py.3’ saved [22064/22064]\n",
            "\n"
          ]
        }
      ]
    },
    {
      "cell_type": "code",
      "execution_count": 2,
      "metadata": {
        "id": "7jGX4TxY7xgK",
        "colab": {
          "base_uri": "https://localhost:8080/"
        },
        "outputId": "1bf75be8-42af-4a86-bc92-5a6c639d6873"
      },
      "outputs": [
        {
          "output_type": "stream",
          "name": "stderr",
          "text": [
            "/content/idlmam.py:7: TqdmExperimentalWarning: Using `tqdm.autonotebook.tqdm` in notebook mode. Use `tqdm.tqdm` instead to force console mode (e.g. in jupyter console)\n",
            "  from tqdm.autonotebook import tqdm\n"
          ]
        }
      ],
      "source": [
        "import os\n",
        "import torch\n",
        "from torch.utils.data import Dataset, DataLoader\n",
        "from torchvision import transforms\n",
        "from PIL import Image\n",
        "import torch\n",
        "import torch.nn as nn\n",
        "import torch.optim as optim\n",
        "from idlmam import train_network, weight_reset, set_seed\n",
        "from sklearn.metrics import accuracy_score\n",
        "import torch.nn.functional as F\n",
        "from tqdm import tqdm\n",
        "import numpy as np\n",
        "import matplotlib.pyplot as plt"
      ]
    },
    {
      "cell_type": "code",
      "source": [
        "from google.colab import drive\n",
        "drive.mount('/content/drive')"
      ],
      "metadata": {
        "colab": {
          "base_uri": "https://localhost:8080/"
        },
        "id": "xhBLdKe-8PxZ",
        "outputId": "87198049-09f3-4be7-fc11-42c64bdd57a6"
      },
      "execution_count": 3,
      "outputs": [
        {
          "output_type": "stream",
          "name": "stdout",
          "text": [
            "Drive already mounted at /content/drive; to attempt to forcibly remount, call drive.mount(\"/content/drive\", force_remount=True).\n"
          ]
        }
      ]
    },
    {
      "cell_type": "code",
      "source": [
        "dataset_path = '/content/drive/MyDrive/data'\n",
        "train_images_path = os.path.join(dataset_path, \"train\")\n",
        "test_images_path = os.path.join(dataset_path, \"val\")"
      ],
      "metadata": {
        "id": "4V_9Mj7Y8Xir"
      },
      "execution_count": 4,
      "outputs": []
    },
    {
      "cell_type": "markdown",
      "source": [
        "Defines paths for training and validation datasets. These paths are necessary to load and preprocess the CAPTCHA images."
      ],
      "metadata": {
        "id": "N-dFpQi6jfh7"
      }
    },
    {
      "cell_type": "code",
      "source": [],
      "metadata": {
        "id": "3Wlk47oyXqau"
      },
      "execution_count": 4,
      "outputs": []
    },
    {
      "cell_type": "code",
      "source": [
        "import random\n",
        "\n",
        "def show_images(image_folder, n=5):\n",
        "    a, b = plt.subplots(1, n, figsize=(15, 5))\n",
        "    for i in b:\n",
        "        img_file = random.choice(os.listdir(image_folder))\n",
        "        img = Image.open(os.path.join(image_folder, img_file))\n",
        "        i.imshow(img)\n",
        "        i.axis(\"off\")\n",
        "        i.set_title(f\"Label: {os.path.splitext(img_file)[0]}\")\n",
        "    plt.tight_layout()\n",
        "\n",
        "show_images(train_images_path)\n"
      ],
      "metadata": {
        "colab": {
          "base_uri": "https://localhost:8080/",
          "height": 72
        },
        "id": "T9QCDKnFXjew",
        "outputId": "e345293b-15f7-480f-98cc-47974e685878"
      },
      "execution_count": 5,
      "outputs": [
        {
          "output_type": "display_data",
          "data": {
            "text/plain": [
              "<Figure size 1500x500 with 5 Axes>"
            ],
            "image/png": "[encoded data removed]"
          },
          "metadata": {}
        }
      ]
    },
    {
      "cell_type": "markdown",
      "source": [
        "Display a few examples from the dataset to highlight its diversity and complexity.\n",
        "What It Does:\n",
        "Randomly selects images from the training folder.\n",
        "Displays them along with their labels (extracted from filenames)."
      ],
      "metadata": {
        "id": "K9F4xHyIhD3e"
      }
    },
    {
      "cell_type": "markdown",
      "source": [
        "**Observations**\n",
        "1. The dataset includes a variety of CAPTCHA patterns with different fonts and noise levels.\n",
        "2. Labels are directly embedded in the filenames, which makes label extraction straightforward.\n"
      ],
      "metadata": {
        "id": "nkCDgKNaX8Ra"
      }
    },
    {
      "cell_type": "markdown",
      "source": [
        "### Data Preparation"
      ],
      "metadata": {
        "id": "FHwH0dXFd92k"
      }
    },
    {
      "cell_type": "code",
      "source": [
        "class CaptchaDataset(Dataset):\n",
        "    \"\"\"\n",
        "    A custom PyTorch Dataset for CAPTCHA images.\n",
        "    \"\"\"\n",
        "    def __init__(self, dir, transform=None):\n",
        "        self.dir = dir\n",
        "        self.img_pths = [os.path.join(dir, img) for img in os.listdir(dir)]\n",
        "        self.transform = transform\n",
        "\n",
        "    def __len__(self):\n",
        "        return len(self.img_pths)\n",
        "\n",
        "    def __getitem__(self, idx):\n",
        "        img_path = self.img_pths[idx]\n",
        "        label = os.path.basename(img_path).split('.')[0].lower()\n",
        "        image = Image.open(img_path).convert('RGB')\n",
        "\n",
        "        if self.transform:\n",
        "            image = self.transform(image)\n",
        "\n",
        "        return image, label"
      ],
      "metadata": {
        "id": "6r0QoWvn8fdT"
      },
      "execution_count": 6,
      "outputs": []
    },
    {
      "cell_type": "markdown",
      "source": [
        "Defines a custom PyTorch Dataset class to load images and extract labels from filenames. It applies transformations for resizing, normalization, and augmentation to prepare the data for the model."
      ],
      "metadata": {
        "id": "UkOVkA36hiyh"
      }
    },
    {
      "cell_type": "code",
      "source": [
        "transform = transforms.Compose([\n",
        "    transforms.Resize((128, 128)),\n",
        "    transforms.ColorJitter(brightness=0.2, contrast=0.2),\n",
        "    transforms.RandomRotation(10),\n",
        "    transforms.ToTensor(),\n",
        "    transforms.Normalize((0.5, 0.5, 0.5), (0.5, 0.5, 0.5))\n",
        "])\n"
      ],
      "metadata": {
        "id": "pKZ7sKPr8pbt"
      },
      "execution_count": 7,
      "outputs": []
    },
    {
      "cell_type": "markdown",
      "source": [
        "Applies preprocessing and augmentation to the dataset. These include resizing to a fixed size, adding variability with ColorJitter and RandomRotation, and normalizing pixel values for better convergence during training.\n",
        "\n",
        "\n",
        "- Resize images to (128, 128), normalize pixel values, and convert to tensors.\n",
        "- Handles batch-wise loading of data for efficient training."
      ],
      "metadata": {
        "id": "LMxWjzYTh8lW"
      }
    },
    {
      "cell_type": "code",
      "source": [
        "train_dir = os.path.join(dataset_path, 'train')\n",
        "val_dir = os.path.join(dataset_path, 'val')\n",
        "\n",
        "train_data = CaptchaDataset(train_dir, transform=transform)\n",
        "val_data = CaptchaDataset(val_dir, transform=transform)\n",
        "\n",
        "batch_size = 32\n",
        "\n",
        "train_loader = DataLoader(train_data, batch_size=batch_size, shuffle=True)\n",
        "val_loader = DataLoader(val_data, batch_size=batch_size, shuffle=False)\n"
      ],
      "metadata": {
        "id": "IydGUiYP8u7K"
      },
      "execution_count": 8,
      "outputs": []
    },
    {
      "cell_type": "markdown",
      "source": [
        "Creates DataLoader objects for efficient batch-wise loading of the training and validation datasets. Shuffling is enabled for the training set to improve model generalization.\n",
        "*   The CaptchaDataset class loads images and extracts labels from filenames.\n",
        "*   A DataLoader is used for batch-wise data feeding."
      ],
      "metadata": {
        "id": "hmnIhCO3e07P"
      }
    },
    {
      "cell_type": "code",
      "source": [
        "data_iter = iter(train_loader)\n",
        "images, labels = next(data_iter)\n",
        "\n",
        "print(f\"Number of training samples: {len(train_data)}\")\n",
        "print(f\"Number of validation samples: {len(val_data)}\")\n",
        "print(f\"Image batch shape: {images.shape}\")\n",
        "print(f\"Example labels: {labels[:5]}\")"
      ],
      "metadata": {
        "colab": {
          "base_uri": "https://localhost:8080/"
        },
        "id": "Dc90lTvJ8zBK",
        "outputId": "e9a3002a-a6fe-4d2c-cb21-f038bc986c5f"
      },
      "execution_count": 9,
      "outputs": [
        {
          "output_type": "stream",
          "name": "stdout",
          "text": [
            "Number of training samples: 856\n",
            "Number of validation samples: 214\n",
            "Image batch shape: torch.Size([32, 3, 128, 128])\n",
            "Example labels: ('4w76g', '4m2w5', 'g78gn', '3b4we', 'y2ye8')\n"
          ]
        }
      ]
    },
    {
      "cell_type": "markdown",
      "source": [
        "### CNN Model Overview:\n",
        "- 4 Convolutional layers with ReLU activation and MaxPooling\n",
        "- Fully connected layers with Dropout for regularization\n",
        "- Output reshaped to (batch_size, captcha_length, num_classes)\n"
      ],
      "metadata": {
        "id": "nyNJF_QIfIVd"
      }
    },
    {
      "cell_type": "code",
      "source": [
        "# Define the CNN Model\n",
        "class CaptchaCNN(nn.Module):\n",
        "    def __init__(self, num_classes=36, captcha_length=5):\n",
        "        super(CaptchaCNN, self).__init__()\n",
        "        self.num_classes = num_classes\n",
        "        self.captcha_length = captcha_length\n",
        "        self.conv_layers = nn.Sequential(\n",
        "            nn.Conv2d(3, 64, kernel_size=3, padding=1),\n",
        "            nn.ReLU(),\n",
        "            nn.MaxPool2d(2),\n",
        "\n",
        "            nn.Conv2d(64, 128, kernel_size=3, padding=1),\n",
        "            nn.ReLU(),\n",
        "            nn.MaxPool2d(2),\n",
        "\n",
        "            nn.Conv2d(128, 256, kernel_size=3, padding=1),\n",
        "            nn.ReLU(),\n",
        "            nn.MaxPool2d(2),\n",
        "\n",
        "            nn.Conv2d(256, 512, kernel_size=3, padding=1),\n",
        "            nn.ReLU(),\n",
        "            nn.MaxPool2d(2)\n",
        "        )\n",
        "\n",
        "        self.fc_layers = nn.Sequential(\n",
        "            nn.Flatten(),\n",
        "            nn.Linear(512 * 8 * 8, 2048),\n",
        "            nn.ReLU(),\n",
        "            nn.Dropout(0.5),\n",
        "\n",
        "            nn.Linear(2048, self.num_classes * self.captcha_length)\n",
        "        )\n",
        "\n",
        "    def forward(self, x):\n",
        "        x = self.conv_layers(x)\n",
        "        x = self.fc_layers(x)\n",
        "        x = x.view(-1, self.captcha_length, self.num_classes)\n",
        "        return x\n"
      ],
      "metadata": {
        "id": "lY-yQW3T9f4R"
      },
      "execution_count": 10,
      "outputs": []
    },
    {
      "cell_type": "markdown",
      "source": [
        "- Accepts CAPTCHA images resized to a fixed dimension (e.g., 128x128) and normalizes them for uniformity.\n",
        "- Extract hierarchical features from images using multiple convolutional layers with ReLU activation and batch normalization for stability.\n",
        "- MaxPooling layers reduce the spatial dimensions, retaining the most important features and making computations efficient.\n",
        "- Dense layers map the extracted features to predict the alphanumeric characters in the CAPTCHA sequence.\n",
        "- Outputs a sequence of predictions corresponding to the CAPTCHA's character positions, reshaped for sequence decoding.\n"
      ],
      "metadata": {
        "id": "1n63WIYcq35t"
      }
    },
    {
      "cell_type": "code",
      "source": [
        "model = CaptchaCNN(num_classes=36, captcha_length=5)\n",
        "\n",
        "device = torch.device(\"cuda\" if torch.cuda.is_available() else \"cpu\")\n",
        "model.to(device)\n",
        "\n",
        "criterion = nn.CrossEntropyLoss()\n",
        "optimizer = torch.optim.Adam(model.parameters(), lr=0.0001)"
      ],
      "metadata": {
        "id": "SD-kDQuX9qd7"
      },
      "execution_count": 11,
      "outputs": []
    },
    {
      "cell_type": "markdown",
      "source": [
        "Defines the loss function (CrossEntropyLoss) for multi-class classification and the Adam optimizer for efficient training with an initial learning rate of 0.0001."
      ],
      "metadata": {
        "id": "dCqbLg4okGEk"
      }
    },
    {
      "cell_type": "code",
      "source": [
        "print(f\"Using device: {device}\")"
      ],
      "metadata": {
        "colab": {
          "base_uri": "https://localhost:8080/"
        },
        "id": "ddmc-yLfQFQR",
        "outputId": "d993198f-e7c9-448b-ac85-7f38bb2a7b4d"
      },
      "execution_count": 12,
      "outputs": [
        {
          "output_type": "stream",
          "name": "stdout",
          "text": [
            "Using device: cuda\n"
          ]
        }
      ]
    },
    {
      "cell_type": "code",
      "source": [
        "print(f\"Model architecture:\\n{model}\")"
      ],
      "metadata": {
        "colab": {
          "base_uri": "https://localhost:8080/"
        },
        "id": "A6DV97gk5llH",
        "outputId": "e13c1877-d246-41b3-ac35-c752abbfebcf"
      },
      "execution_count": 13,
      "outputs": [
        {
          "output_type": "stream",
          "name": "stdout",
          "text": [
            "Model architecture:\n",
            "CaptchaCNN(\n",
            "  (conv_layers): Sequential(\n",
            "    (0): Conv2d(3, 64, kernel_size=(3, 3), stride=(1, 1), padding=(1, 1))\n",
            "    (1): ReLU()\n",
            "    (2): MaxPool2d(kernel_size=2, stride=2, padding=0, dilation=1, ceil_mode=False)\n",
            "    (3): Conv2d(64, 128, kernel_size=(3, 3), stride=(1, 1), padding=(1, 1))\n",
            "    (4): ReLU()\n",
            "    (5): MaxPool2d(kernel_size=2, stride=2, padding=0, dilation=1, ceil_mode=False)\n",
            "    (6): Conv2d(128, 256, kernel_size=(3, 3), stride=(1, 1), padding=(1, 1))\n",
            "    (7): ReLU()\n",
            "    (8): MaxPool2d(kernel_size=2, stride=2, padding=0, dilation=1, ceil_mode=False)\n",
            "    (9): Conv2d(256, 512, kernel_size=(3, 3), stride=(1, 1), padding=(1, 1))\n",
            "    (10): ReLU()\n",
            "    (11): MaxPool2d(kernel_size=2, stride=2, padding=0, dilation=1, ceil_mode=False)\n",
            "  )\n",
            "  (fc_layers): Sequential(\n",
            "    (0): Flatten(start_dim=1, end_dim=-1)\n",
            "    (1): Linear(in_features=32768, out_features=2048, bias=True)\n",
            "    (2): ReLU()\n",
            "    (3): Dropout(p=0.5, inplace=False)\n",
            "    (4): Linear(in_features=2048, out_features=180, bias=True)\n",
            "  )\n",
            ")\n"
          ]
        }
      ]
    },
    {
      "cell_type": "code",
      "source": [
        "def weights(m):\n",
        "    if isinstance(m, nn.Conv2d):\n",
        "        nn.init.kaiming_normal_(m.weight, mode='fan_out', nonlinearity='relu')\n",
        "    elif isinstance(m, nn.Linear):\n",
        "        nn.init.xavier_uniform_(m.weight)"
      ],
      "metadata": {
        "id": "jD6KiKv1Goxy"
      },
      "execution_count": 14,
      "outputs": []
    },
    {
      "cell_type": "code",
      "source": [
        "model.apply(weights)"
      ],
      "metadata": {
        "colab": {
          "base_uri": "https://localhost:8080/"
        },
        "id": "t6rKfUFjHQOm",
        "outputId": "f3fb3a2a-8e0f-4f18-dcb9-092ac2e3ab0f"
      },
      "execution_count": 15,
      "outputs": [
        {
          "output_type": "execute_result",
          "data": {
            "text/plain": [
              "CaptchaCNN(\n",
              "  (conv_layers): Sequential(\n",
              "    (0): Conv2d(3, 64, kernel_size=(3, 3), stride=(1, 1), padding=(1, 1))\n",
              "    (1): ReLU()\n",
              "    (2): MaxPool2d(kernel_size=2, stride=2, padding=0, dilation=1, ceil_mode=False)\n",
              "    (3): Conv2d(64, 128, kernel_size=(3, 3), stride=(1, 1), padding=(1, 1))\n",
              "    (4): ReLU()\n",
              "    (5): MaxPool2d(kernel_size=2, stride=2, padding=0, dilation=1, ceil_mode=False)\n",
              "    (6): Conv2d(128, 256, kernel_size=(3, 3), stride=(1, 1), padding=(1, 1))\n",
              "    (7): ReLU()\n",
              "    (8): MaxPool2d(kernel_size=2, stride=2, padding=0, dilation=1, ceil_mode=False)\n",
              "    (9): Conv2d(256, 512, kernel_size=(3, 3), stride=(1, 1), padding=(1, 1))\n",
              "    (10): ReLU()\n",
              "    (11): MaxPool2d(kernel_size=2, stride=2, padding=0, dilation=1, ceil_mode=False)\n",
              "  )\n",
              "  (fc_layers): Sequential(\n",
              "    (0): Flatten(start_dim=1, end_dim=-1)\n",
              "    (1): Linear(in_features=32768, out_features=2048, bias=True)\n",
              "    (2): ReLU()\n",
              "    (3): Dropout(p=0.5, inplace=False)\n",
              "    (4): Linear(in_features=2048, out_features=180, bias=True)\n",
              "  )\n",
              ")"
            ]
          },
          "metadata": {},
          "execution_count": 15
        }
      ]
    },
    {
      "cell_type": "markdown",
      "source": [
        "### Training"
      ],
      "metadata": {
        "id": "mBztu-d3d077"
      }
    },
    {
      "cell_type": "code",
      "source": [
        "characters = 'abcdefghijklmnopqrstuvwxyz0123456789'\n",
        "\n",
        "char_map = {}\n",
        "for i, j in enumerate(characters):\n",
        "    char_map[j] = i\n",
        "\n",
        "reverse_map = {}\n",
        "for j, i in char_map.items():\n",
        "    reverse_map[i] = j\n",
        "\n",
        "num_classes = len(char_map)\n",
        "captcha_length = 5"
      ],
      "metadata": {
        "id": "j3xO2AW3HV9q"
      },
      "execution_count": 16,
      "outputs": []
    },
    {
      "cell_type": "code",
      "source": [
        "print(\"Character to Index Mapping:\", char_map)\n",
        "print(\"Index to Character Mapping:\", reverse_map)\n",
        "print(\"Number of Classes:\", num_classes)\n",
        "print(\"CAPTCHA Length:\", captcha_length)"
      ],
      "metadata": {
        "colab": {
          "base_uri": "https://localhost:8080/"
        },
        "id": "Ul3waUyM6aXg",
        "outputId": "8800ae93-95db-4e67-ada6-b5cfeec1b8cf"
      },
      "execution_count": 17,
      "outputs": [
        {
          "output_type": "stream",
          "name": "stdout",
          "text": [
            "Character to Index Mapping: {'a': 0, 'b': 1, 'c': 2, 'd': 3, 'e': 4, 'f': 5, 'g': 6, 'h': 7, 'i': 8, 'j': 9, 'k': 10, 'l': 11, 'm': 12, 'n': 13, 'o': 14, 'p': 15, 'q': 16, 'r': 17, 's': 18, 't': 19, 'u': 20, 'v': 21, 'w': 22, 'x': 23, 'y': 24, 'z': 25, '0': 26, '1': 27, '2': 28, '3': 29, '4': 30, '5': 31, '6': 32, '7': 33, '8': 34, '9': 35}\n",
            "Index to Character Mapping: {0: 'a', 1: 'b', 2: 'c', 3: 'd', 4: 'e', 5: 'f', 6: 'g', 7: 'h', 8: 'i', 9: 'j', 10: 'k', 11: 'l', 12: 'm', 13: 'n', 14: 'o', 15: 'p', 16: 'q', 17: 'r', 18: 's', 19: 't', 20: 'u', 21: 'v', 22: 'w', 23: 'x', 24: 'y', 25: 'z', 26: '0', 27: '1', 28: '2', 29: '3', 30: '4', 31: '5', 32: '6', 33: '7', 34: '8', 35: '9'}\n",
            "Number of Classes: 36\n",
            "CAPTCHA Length: 5\n"
          ]
        }
      ]
    },
    {
      "cell_type": "code",
      "source": [
        "results = {\n",
        "    \"train loss\": [],\n",
        "    \"train Accuracy\": []\n",
        "}\n",
        "\n",
        "num_epochs = 50\n",
        "for epoch in range(num_epochs):\n",
        "    epoch_loss = 0\n",
        "    total_samples = 0\n",
        "    correct_preds = 0\n",
        "\n",
        "    for inputs, labels in tqdm(train_loader, desc=f\"Epoch {epoch+1}/{num_epochs}\", leave=False):\n",
        "        inputs = inputs.to(device)\n",
        "\n",
        "        encoded_labels = []\n",
        "        for label in labels:\n",
        "            encoded_labels.append([char_map[c] for c in label.ljust(captcha_length, '-')])\n",
        "        encoded_labels = torch.tensor(encoded_labels, dtype=torch.long).view(-1)\n",
        "\n",
        "        outputs = model(inputs)\n",
        "        outputs = outputs.view(-1, num_classes)\n",
        "        loss = criterion(outputs, encoded_labels.to(device))\n",
        "\n",
        "        optimizer.zero_grad()\n",
        "        loss.backward()\n",
        "        optimizer.step()\n",
        "\n",
        "        epoch_loss += loss.item() * inputs.size(0)\n",
        "        total_samples += inputs.size(0)\n",
        "\n",
        "        preds = torch.argmax(outputs, dim=1).view(-1, captcha_length)\n",
        "        decoded_preds = [\n",
        "            \"\".join([reverse_map[idx] for idx in preds[i].cpu().numpy()])\n",
        "            for i in range(preds.size(0))\n",
        "        ]\n",
        "        correct_preds += sum(\n",
        "            [1 for pred, truth in zip(decoded_preds, labels) if pred == truth]\n",
        "        )\n",
        "\n",
        "\n",
        "    avg_loss = epoch_loss / total_samples\n",
        "    accuracy = correct_preds / total_samples\n",
        "    results[\"train loss\"].append(avg_loss)\n",
        "    results[\"train Accuracy\"].append(accuracy)\n",
        "\n",
        "    print(f\"Epoch {epoch+1}/{num_epochs}, Loss: {avg_loss:.4f}, Accuracy: {accuracy:.4f}\")\n"
      ],
      "metadata": {
        "colab": {
          "base_uri": "https://localhost:8080/"
        },
        "id": "s4l7h0r5IpwD",
        "outputId": "5306d020-a34e-4d52-87be-3997486d6e8a"
      },
      "execution_count": 18,
      "outputs": [
        {
          "output_type": "stream",
          "name": "stderr",
          "text": []
        },
        {
          "output_type": "stream",
          "name": "stdout",
          "text": [
            "Epoch 1/50, Loss: 3.2666, Accuracy: 0.0000\n"
          ]
        },
        {
          "output_type": "stream",
          "name": "stderr",
          "text": []
        },
        {
          "output_type": "stream",
          "name": "stdout",
          "text": [
            "Epoch 2/50, Loss: 3.0858, Accuracy: 0.0000\n"
          ]
        },
        {
          "output_type": "stream",
          "name": "stderr",
          "text": []
        },
        {
          "output_type": "stream",
          "name": "stdout",
          "text": [
            "Epoch 3/50, Loss: 3.0099, Accuracy: 0.0000\n"
          ]
        },
        {
          "output_type": "stream",
          "name": "stderr",
          "text": []
        },
        {
          "output_type": "stream",
          "name": "stdout",
          "text": [
            "Epoch 4/50, Loss: 2.8721, Accuracy: 0.0000\n"
          ]
        },
        {
          "output_type": "stream",
          "name": "stderr",
          "text": []
        },
        {
          "output_type": "stream",
          "name": "stdout",
          "text": [
            "Epoch 5/50, Loss: 2.5903, Accuracy: 0.0012\n"
          ]
        },
        {
          "output_type": "stream",
          "name": "stderr",
          "text": []
        },
        {
          "output_type": "stream",
          "name": "stdout",
          "text": [
            "Epoch 6/50, Loss: 2.1885, Accuracy: 0.0035\n"
          ]
        },
        {
          "output_type": "stream",
          "name": "stderr",
          "text": []
        },
        {
          "output_type": "stream",
          "name": "stdout",
          "text": [
            "Epoch 7/50, Loss: 1.8275, Accuracy: 0.0175\n"
          ]
        },
        {
          "output_type": "stream",
          "name": "stderr",
          "text": []
        },
        {
          "output_type": "stream",
          "name": "stdout",
          "text": [
            "Epoch 8/50, Loss: 1.5348, Accuracy: 0.0350\n"
          ]
        },
        {
          "output_type": "stream",
          "name": "stderr",
          "text": []
        },
        {
          "output_type": "stream",
          "name": "stdout",
          "text": [
            "Epoch 9/50, Loss: 1.2435, Accuracy: 0.0736\n"
          ]
        },
        {
          "output_type": "stream",
          "name": "stderr",
          "text": []
        },
        {
          "output_type": "stream",
          "name": "stdout",
          "text": [
            "Epoch 10/50, Loss: 1.0317, Accuracy: 0.1402\n"
          ]
        },
        {
          "output_type": "stream",
          "name": "stderr",
          "text": []
        },
        {
          "output_type": "stream",
          "name": "stdout",
          "text": [
            "Epoch 11/50, Loss: 0.8481, Accuracy: 0.2208\n"
          ]
        },
        {
          "output_type": "stream",
          "name": "stderr",
          "text": []
        },
        {
          "output_type": "stream",
          "name": "stdout",
          "text": [
            "Epoch 12/50, Loss: 0.7265, Accuracy: 0.2839\n"
          ]
        },
        {
          "output_type": "stream",
          "name": "stderr",
          "text": []
        },
        {
          "output_type": "stream",
          "name": "stdout",
          "text": [
            "Epoch 13/50, Loss: 0.6063, Accuracy: 0.3586\n"
          ]
        },
        {
          "output_type": "stream",
          "name": "stderr",
          "text": []
        },
        {
          "output_type": "stream",
          "name": "stdout",
          "text": [
            "Epoch 14/50, Loss: 0.5323, Accuracy: 0.4100\n"
          ]
        },
        {
          "output_type": "stream",
          "name": "stderr",
          "text": []
        },
        {
          "output_type": "stream",
          "name": "stdout",
          "text": [
            "Epoch 15/50, Loss: 0.4452, Accuracy: 0.4801\n"
          ]
        },
        {
          "output_type": "stream",
          "name": "stderr",
          "text": []
        },
        {
          "output_type": "stream",
          "name": "stdout",
          "text": [
            "Epoch 16/50, Loss: 0.3644, Accuracy: 0.5514\n"
          ]
        },
        {
          "output_type": "stream",
          "name": "stderr",
          "text": []
        },
        {
          "output_type": "stream",
          "name": "stdout",
          "text": [
            "Epoch 17/50, Loss: 0.3412, Accuracy: 0.5841\n"
          ]
        },
        {
          "output_type": "stream",
          "name": "stderr",
          "text": []
        },
        {
          "output_type": "stream",
          "name": "stdout",
          "text": [
            "Epoch 18/50, Loss: 0.2922, Accuracy: 0.6390\n"
          ]
        },
        {
          "output_type": "stream",
          "name": "stderr",
          "text": []
        },
        {
          "output_type": "stream",
          "name": "stdout",
          "text": [
            "Epoch 19/50, Loss: 0.2657, Accuracy: 0.6647\n"
          ]
        },
        {
          "output_type": "stream",
          "name": "stderr",
          "text": []
        },
        {
          "output_type": "stream",
          "name": "stdout",
          "text": [
            "Epoch 20/50, Loss: 0.2225, Accuracy: 0.7103\n"
          ]
        },
        {
          "output_type": "stream",
          "name": "stderr",
          "text": []
        },
        {
          "output_type": "stream",
          "name": "stdout",
          "text": [
            "Epoch 21/50, Loss: 0.2189, Accuracy: 0.7068\n"
          ]
        },
        {
          "output_type": "stream",
          "name": "stderr",
          "text": []
        },
        {
          "output_type": "stream",
          "name": "stdout",
          "text": [
            "Epoch 22/50, Loss: 0.2033, Accuracy: 0.7056\n"
          ]
        },
        {
          "output_type": "stream",
          "name": "stderr",
          "text": []
        },
        {
          "output_type": "stream",
          "name": "stdout",
          "text": [
            "Epoch 23/50, Loss: 0.1951, Accuracy: 0.7418\n"
          ]
        },
        {
          "output_type": "stream",
          "name": "stderr",
          "text": []
        },
        {
          "output_type": "stream",
          "name": "stdout",
          "text": [
            "Epoch 24/50, Loss: 0.1658, Accuracy: 0.7652\n"
          ]
        },
        {
          "output_type": "stream",
          "name": "stderr",
          "text": []
        },
        {
          "output_type": "stream",
          "name": "stdout",
          "text": [
            "Epoch 25/50, Loss: 0.1486, Accuracy: 0.7722\n"
          ]
        },
        {
          "output_type": "stream",
          "name": "stderr",
          "text": []
        },
        {
          "output_type": "stream",
          "name": "stdout",
          "text": [
            "Epoch 26/50, Loss: 0.1549, Accuracy: 0.7745\n"
          ]
        },
        {
          "output_type": "stream",
          "name": "stderr",
          "text": []
        },
        {
          "output_type": "stream",
          "name": "stdout",
          "text": [
            "Epoch 27/50, Loss: 0.1323, Accuracy: 0.8143\n"
          ]
        },
        {
          "output_type": "stream",
          "name": "stderr",
          "text": []
        },
        {
          "output_type": "stream",
          "name": "stdout",
          "text": [
            "Epoch 28/50, Loss: 0.1326, Accuracy: 0.8166\n"
          ]
        },
        {
          "output_type": "stream",
          "name": "stderr",
          "text": []
        },
        {
          "output_type": "stream",
          "name": "stdout",
          "text": [
            "Epoch 29/50, Loss: 0.1133, Accuracy: 0.8294\n"
          ]
        },
        {
          "output_type": "stream",
          "name": "stderr",
          "text": []
        },
        {
          "output_type": "stream",
          "name": "stdout",
          "text": [
            "Epoch 30/50, Loss: 0.1072, Accuracy: 0.8540\n"
          ]
        },
        {
          "output_type": "stream",
          "name": "stderr",
          "text": []
        },
        {
          "output_type": "stream",
          "name": "stdout",
          "text": [
            "Epoch 31/50, Loss: 0.0925, Accuracy: 0.8703\n"
          ]
        },
        {
          "output_type": "stream",
          "name": "stderr",
          "text": []
        },
        {
          "output_type": "stream",
          "name": "stdout",
          "text": [
            "Epoch 32/50, Loss: 0.0891, Accuracy: 0.8727\n"
          ]
        },
        {
          "output_type": "stream",
          "name": "stderr",
          "text": []
        },
        {
          "output_type": "stream",
          "name": "stdout",
          "text": [
            "Epoch 33/50, Loss: 0.0841, Accuracy: 0.8621\n"
          ]
        },
        {
          "output_type": "stream",
          "name": "stderr",
          "text": []
        },
        {
          "output_type": "stream",
          "name": "stdout",
          "text": [
            "Epoch 34/50, Loss: 0.0762, Accuracy: 0.8960\n"
          ]
        },
        {
          "output_type": "stream",
          "name": "stderr",
          "text": []
        },
        {
          "output_type": "stream",
          "name": "stdout",
          "text": [
            "Epoch 35/50, Loss: 0.0782, Accuracy: 0.8820\n"
          ]
        },
        {
          "output_type": "stream",
          "name": "stderr",
          "text": []
        },
        {
          "output_type": "stream",
          "name": "stdout",
          "text": [
            "Epoch 36/50, Loss: 0.0820, Accuracy: 0.8680\n"
          ]
        },
        {
          "output_type": "stream",
          "name": "stderr",
          "text": []
        },
        {
          "output_type": "stream",
          "name": "stdout",
          "text": [
            "Epoch 37/50, Loss: 0.0881, Accuracy: 0.8762\n"
          ]
        },
        {
          "output_type": "stream",
          "name": "stderr",
          "text": []
        },
        {
          "output_type": "stream",
          "name": "stdout",
          "text": [
            "Epoch 38/50, Loss: 0.0755, Accuracy: 0.8832\n"
          ]
        },
        {
          "output_type": "stream",
          "name": "stderr",
          "text": []
        },
        {
          "output_type": "stream",
          "name": "stdout",
          "text": [
            "Epoch 39/50, Loss: 0.0778, Accuracy: 0.8832\n"
          ]
        },
        {
          "output_type": "stream",
          "name": "stderr",
          "text": []
        },
        {
          "output_type": "stream",
          "name": "stdout",
          "text": [
            "Epoch 40/50, Loss: 0.0689, Accuracy: 0.9054\n"
          ]
        },
        {
          "output_type": "stream",
          "name": "stderr",
          "text": []
        },
        {
          "output_type": "stream",
          "name": "stdout",
          "text": [
            "Epoch 41/50, Loss: 0.0588, Accuracy: 0.9147\n"
          ]
        },
        {
          "output_type": "stream",
          "name": "stderr",
          "text": []
        },
        {
          "output_type": "stream",
          "name": "stdout",
          "text": [
            "Epoch 42/50, Loss: 0.0640, Accuracy: 0.9054\n"
          ]
        },
        {
          "output_type": "stream",
          "name": "stderr",
          "text": []
        },
        {
          "output_type": "stream",
          "name": "stdout",
          "text": [
            "Epoch 43/50, Loss: 0.0725, Accuracy: 0.8902\n"
          ]
        },
        {
          "output_type": "stream",
          "name": "stderr",
          "text": []
        },
        {
          "output_type": "stream",
          "name": "stdout",
          "text": [
            "Epoch 44/50, Loss: 0.0663, Accuracy: 0.8949\n"
          ]
        },
        {
          "output_type": "stream",
          "name": "stderr",
          "text": []
        },
        {
          "output_type": "stream",
          "name": "stdout",
          "text": [
            "Epoch 45/50, Loss: 0.0547, Accuracy: 0.9322\n"
          ]
        },
        {
          "output_type": "stream",
          "name": "stderr",
          "text": []
        },
        {
          "output_type": "stream",
          "name": "stdout",
          "text": [
            "Epoch 46/50, Loss: 0.0658, Accuracy: 0.8937\n"
          ]
        },
        {
          "output_type": "stream",
          "name": "stderr",
          "text": []
        },
        {
          "output_type": "stream",
          "name": "stdout",
          "text": [
            "Epoch 47/50, Loss: 0.0600, Accuracy: 0.9077\n"
          ]
        },
        {
          "output_type": "stream",
          "name": "stderr",
          "text": []
        },
        {
          "output_type": "stream",
          "name": "stdout",
          "text": [
            "Epoch 48/50, Loss: 0.0511, Accuracy: 0.9322\n"
          ]
        },
        {
          "output_type": "stream",
          "name": "stderr",
          "text": []
        },
        {
          "output_type": "stream",
          "name": "stdout",
          "text": [
            "Epoch 49/50, Loss: 0.0448, Accuracy: 0.9322\n"
          ]
        },
        {
          "output_type": "stream",
          "name": "stderr",
          "text": [
            "                                                            "
          ]
        },
        {
          "output_type": "stream",
          "name": "stdout",
          "text": [
            "Epoch 50/50, Loss: 0.0474, Accuracy: 0.9299\n"
          ]
        },
        {
          "output_type": "stream",
          "name": "stderr",
          "text": [
            "\r"
          ]
        }
      ]
    },
    {
      "cell_type": "code",
      "source": [
        "print(f\"Loss Value: {loss.item()}\")"
      ],
      "metadata": {
        "colab": {
          "base_uri": "https://localhost:8080/"
        },
        "id": "RSxXHJUXIDrz",
        "outputId": "9b6ad16c-2de0-4dda-d719-2fececaad5ac"
      },
      "execution_count": 21,
      "outputs": [
        {
          "output_type": "stream",
          "name": "stdout",
          "text": [
            "Loss Value: 0.05865585431456566\n"
          ]
        }
      ]
    },
    {
      "cell_type": "markdown",
      "source": [
        "**Trainng Loop**\n",
        "- The dataset is processed in mini-batches over multiple epochs to optimize the model.\n",
        "\n",
        "- Inputs are passed through the CNN to generate predictions for each CAPTCHA.\n",
        "\n",
        "- The CrossEntropy loss function compares predictions with true labels to measure error.\n",
        "\n",
        "- Gradients are computed, and model weights are updated using the Adam optimizer.\n",
        "\n",
        "- Loss and accuracy are tracked for each epoch to evaluate learning progress."
      ],
      "metadata": {
        "id": "DjZ9zDSNqdhH"
      }
    },
    {
      "cell_type": "markdown",
      "source": [
        "**Observations:**\n",
        "\n",
        "Loss:\n",
        "- Final epoch loss is consistently low, around 0.0448, with a final logged loss of 0.0586, indicating the model is learning effectively.\n",
        "- The slight fluctuations in loss between epochs could result from noise in the data or batch-level variability.\n",
        "\n",
        "Accuracy:\n",
        "- Accuracy stabilizes in the range of 92% - 93%, with peak performance at 93.2%.\n",
        "- These high accuracy values indicate the model successfully predicts most CAPTCHA sequences in the training set."
      ],
      "metadata": {
        "id": "TGXvY-NcomG-"
      }
    },
    {
      "cell_type": "code",
      "source": [
        "print(f\"Output Shape: {outputs.shape}\")\n",
        "print(f\"Encoded Label Shape: {encoded_labels.shape}\")\n"
      ],
      "metadata": {
        "colab": {
          "base_uri": "https://localhost:8080/"
        },
        "id": "tGsy-XYJE68Q",
        "outputId": "c2ad703f-8a7f-455d-d932-c6b0d53cba76"
      },
      "execution_count": 19,
      "outputs": [
        {
          "output_type": "stream",
          "name": "stdout",
          "text": [
            "Output Shape: torch.Size([120, 36])\n",
            "Encoded Label Shape: torch.Size([120])\n"
          ]
        }
      ]
    },
    {
      "cell_type": "code",
      "source": [
        "print(f\"Decoded Predictions: {decoded_preds[:5]}\")\n",
        "print(f\"True Labels: {labels[:5]}\")\n"
      ],
      "metadata": {
        "colab": {
          "base_uri": "https://localhost:8080/"
        },
        "id": "AU8u07qCE_AJ",
        "outputId": "98d5341c-89e1-4102-e3fb-bffce4519557"
      },
      "execution_count": 20,
      "outputs": [
        {
          "output_type": "stream",
          "name": "stdout",
          "text": [
            "Decoded Predictions: ['y866y', 'e2d66', '445cc', 'bmxpe', 'd3c7y']\n",
            "True Labels: ('y866y', 'e2d66', '445cc', 'bmxpe', 'd3c7y')\n"
          ]
        }
      ]
    },
    {
      "cell_type": "markdown",
      "source": [
        "**Observations:**\n",
        "\n",
        "Decoded Predictions:\n",
        "- Example predictions like \"nwfde\" and \"m4fd8\" perfectly match the true labels, demonstrating the model’s ability to decode entire CAPTCHA sequences accurately.\n",
        "- Partial mismatches, such as \"emnmm\" vs. \"ennmm\", suggest occasional errors in character recognition or sequence alignment.\n",
        "\n",
        "Qualitative Insights:\n",
        "- The model handles most CAPTCHA variations well but struggles with visually similar characters (e.g., m vs. n)."
      ],
      "metadata": {
        "id": "EVnU--ETo-3N"
      }
    },
    {
      "cell_type": "markdown",
      "source": [
        "### Evaluation"
      ],
      "metadata": {
        "id": "fhvNQcijdusV"
      }
    },
    {
      "cell_type": "code",
      "source": [
        "show_images(test_images_path)"
      ],
      "metadata": {
        "colab": {
          "base_uri": "https://localhost:8080/",
          "height": 72
        },
        "id": "u1csk5ujVED0",
        "outputId": "22f68324-15dc-4d2d-9f0c-52f6de672ce1"
      },
      "execution_count": 22,
      "outputs": [
        {
          "output_type": "display_data",
          "data": {
            "text/plain": [
              "<Figure size 1500x500 with 5 Axes>"
            ],
            "image/png": "[encoded data removed]"
          },
          "metadata": {}
        }
      ]
    },
    {
      "cell_type": "code",
      "source": [
        "model.eval()\n",
        "\n",
        "correct = 0\n",
        "total = 0\n",
        "\n",
        "part_preds = []\n",
        "correct_preds = []\n",
        "wrong_preds = []\n",
        "\n",
        "threshold = 0.8\n",
        "\n",
        "with torch.no_grad():\n",
        "    for batch in val_loader:\n",
        "        images, labels = batch\n",
        "        images = images.to(device)\n",
        "\n",
        "        preds = model(images)\n",
        "\n",
        "        pred_idx = torch.argmax(preds, dim=2)\n",
        "        pred_txts = []\n",
        "        for i in range(len(pred_idx)):\n",
        "            pred_chars = []\n",
        "            for j in pred_idx[i]:\n",
        "                pred_chars.append(reverse_map[j.item()])\n",
        "            pred_txts.append(\"\".join(pred_chars))\n",
        "\n",
        "        for i in range(len(labels)):\n",
        "            true_lbl = labels[i]\n",
        "            pred_lbl = pred_txts[i]\n",
        "            total += 1\n",
        "\n",
        "            matches = 0\n",
        "            for c1, c2 in zip(true_lbl, pred_lbl):\n",
        "                if c1 == c2:\n",
        "                    matches += 1\n",
        "\n",
        "            match_percentage = matches / len(true_lbl)\n",
        "\n",
        "            if match_percentage == threshold:\n",
        "                correct += 1\n",
        "                part_preds.append((images[i].cpu().numpy(), true_lbl, pred_lbl))\n",
        "            elif match_percentage > threshold:\n",
        "                correct += 0.8\n",
        "                correct_preds.append((images[i].cpu().numpy(), true_lbl, pred_lbl))\n",
        "            else:\n",
        "                wrong_preds.append((images[i].cpu().numpy(), true_lbl, pred_lbl))\n",
        "\n",
        "test_acc = correct / total\n",
        "print(f\"Testing Accuracy with 80% Threshold: {test_acc:.4f}\")\n"
      ],
      "metadata": {
        "colab": {
          "base_uri": "https://localhost:8080/"
        },
        "id": "cawJUtPoaOrh",
        "outputId": "ac6b8b87-de44-4749-d067-ccb7550bb69a"
      },
      "execution_count": 51,
      "outputs": [
        {
          "output_type": "stream",
          "name": "stdout",
          "text": [
            "Testing Accuracy with 80% Threshold: 0.7673\n"
          ]
        }
      ]
    },
    {
      "cell_type": "code",
      "source": [
        "print(\"Correct Predictions:\")\n",
        "for i,j,k in correct_preds[:5]:\n",
        "    print(f\"True Label: {j}, Predicted: {k}\")"
      ],
      "metadata": {
        "colab": {
          "base_uri": "https://localhost:8080/"
        },
        "id": "P_gOcj4SWE6m",
        "outputId": "6546983f-ec7d-4696-a2b8-49b3c7f8b1c0"
      },
      "execution_count": 46,
      "outputs": [
        {
          "output_type": "stream",
          "name": "stdout",
          "text": [
            "Correct Predictions:\n",
            "True Label: 2wc38, Predicted: 2wc38\n",
            "True Label: 58pnp, Predicted: 58pnp\n",
            "True Label: 4d22m, Predicted: 4d22m\n",
            "True Label: 3ygde, Predicted: 3ygde\n",
            "True Label: 6c3n6, Predicted: 6c3n6\n"
          ]
        }
      ]
    },
    {
      "cell_type": "code",
      "source": [
        "print(\"Partially Correct Predictions:\")\n",
        "for i,j,k in part_preds[:5]:\n",
        "    print(f\"True Label: {j}, Predicted: {k}\")"
      ],
      "metadata": {
        "colab": {
          "base_uri": "https://localhost:8080/"
        },
        "id": "cknOizvidH7L",
        "outputId": "b613a1e7-3133-4319-e497-06624f2bd621"
      },
      "execution_count": 47,
      "outputs": [
        {
          "output_type": "stream",
          "name": "stdout",
          "text": [
            "Partially Correct Predictions:\n",
            "True Label: 5mgn4, Predicted: 5ngn4\n",
            "True Label: 5p8fm, Predicted: 3p8fm\n",
            "True Label: 46mbm, Predicted: 46nbm\n",
            "True Label: 52447, Predicted: 62447\n",
            "True Label: 2g7nm, Predicted: 2g7mm\n"
          ]
        }
      ]
    },
    {
      "cell_type": "code",
      "source": [
        "print(\"Wrong Predictions:\")\n",
        "for i,j,k in wrong_preds[:5]:\n",
        "    print(f\"True Label: {j}, Predicted: {k}\")"
      ],
      "metadata": {
        "colab": {
          "base_uri": "https://localhost:8080/"
        },
        "id": "YgfboiGqWZbM",
        "outputId": "4fbb23dc-35af-4421-ff9c-6404af1b3d4d"
      },
      "execution_count": 48,
      "outputs": [
        {
          "output_type": "stream",
          "name": "stdout",
          "text": [
            "Wrong Predictions:\n",
            "True Label: 6xpme, Predicted: 6xcmw\n",
            "True Label: 6m5eg, Predicted: 6nnwg\n",
            "True Label: 6dmx7, Predicted: 6dwn7\n",
            "True Label: 5nm6d, Predicted: 7nn6d\n",
            "True Label: 44ype, Predicted: 4dxpe\n"
          ]
        }
      ]
    },
    {
      "cell_type": "markdown",
      "source": [
        "### References:\n",
        "1. Paszke, A., Gross, S., Chintala, S., Chanan, G., Yang, E., DeVito, Z., Lin, Z., Desmaison, A., Antiga, L., & Lerer, A. (2019). PyTorch: An Imperative Style, High-Performance Deep Learning Library. Advances in Neural Information Processing Systems.\n",
        "\n",
        "2. Noury, Z., & Rezaei, M. (2020). Deep-CAPTCHA: A Deep Learning-Based CAPTCHA Solver for Vulnerability Assessment. Faculty of Computer and Electrical Engineering, Qazvin Azad University; Institute for Transport Studies, University of Leedsllow, I., et al. (2016). Deep Learning. MIT Press.\n",
        "\n",
        "3. Von Ahn, L., et al. (2003). CAPTCHA: Using Hard AI Problems for Security. EUROCRYPT.\n",
        "\n",
        "4. He, K., et al. (2016). Deep Residual Learning for Image Recognition. CVPR Proceedings.\n",
        "\n",
        "5. Kingma, D. P., & Ba, J. (2014). Adam: A Method for Stochastic Optimization. arXiv preprint arXiv:1412.6980.\n",
        "\n",
        "6. Goodfellow, I., Bengio, Y., & Courville, A. (2016). Deep Learning. MIT Press.\n",
        " - Chapter 6: Feedforward Deep Networks, discusses how weights in neural networks represent adjustable parameters that determine the importance of each input feature and how they are optimized during training."
      ],
      "metadata": {
        "id": "Dg7ilL5AkSVE"
      }
    },
    {
      "cell_type": "code",
      "source": [],
      "metadata": {
        "id": "caQMxeIIncpS"
      },
      "execution_count": 25,
      "outputs": []
    }
  ]
}